{
 "cells": [
  {
   "cell_type": "code",
   "execution_count": 53,
   "metadata": {},
   "outputs": [],
   "source": [
    "import random\n",
    "import numpy as np\n",
    "\n",
    "input_dim = 56\n",
    "input_ch = 24\n",
    "n_bit = 8\n",
    "\n",
    "input_1_r = []\n",
    "input_2_r = []\n",
    "for i in range(input_dim*input_dim*input_ch):\n",
    "    input_1_r.append(random.gauss(0, 1))\n",
    "    input_2_r.append(random.gauss(0, 1))\n",
    "\n",
    "input_1_r = np.asarray(input_1_r)\n",
    "input_2_r = np.asarray(input_2_r)"
   ]
  },
  {
   "cell_type": "code",
   "execution_count": 67,
   "metadata": {},
   "outputs": [
    {
     "name": "stdout",
     "output_type": "stream",
     "text": [
      "0.03268343250462747 0.03313738433794146\n"
     ]
    }
   ],
   "source": [
    "S1 = (max(input_1_r))/(2**(n_bit-1))\n",
    "S2 = (max(input_2_r))/(2**(n_bit-1)) \n",
    "print(S1, S2)"
   ]
  },
  {
   "cell_type": "code",
   "execution_count": 59,
   "metadata": {},
   "outputs": [],
   "source": [
    "input_1_q = np.rint(input_1_r/S1)\n",
    "input_2_q = np.rint(input_2_r/S2)"
   ]
  },
  {
   "cell_type": "code",
   "execution_count": 63,
   "metadata": {},
   "outputs": [],
   "source": [
    "output_r = input_1_r + input_2_r\n",
    "S3 = max(output_r)/(2**(n_bit-1))"
   ]
  },
  {
   "cell_type": "code",
   "execution_count": 136,
   "metadata": {},
   "outputs": [],
   "source": [
    "output_1 = input_1_q*S1 + input_2_q*S2"
   ]
  },
  {
   "cell_type": "code",
   "execution_count": 137,
   "metadata": {},
   "outputs": [
    {
     "name": "stdout",
     "output_type": "stream",
     "text": [
      "[-2.29716013  0.61822773 -0.25719122  1.13757829  1.01372122 -0.19189394\n",
      " -0.13694467  1.77909589 -1.06899343 -0.91391769]\n",
      "[-2.2687754   0.61417594 -0.25238842  1.12031574  1.03361424 -0.17476596\n",
      " -0.16477902  1.77806996 -1.09080997 -0.92285219]\n"
     ]
    }
   ],
   "source": [
    "print(output_r[:10])\n",
    "print(output_1[:10])"
   ]
  },
  {
   "cell_type": "code",
   "execution_count": 173,
   "metadata": {},
   "outputs": [
    {
     "name": "stdout",
     "output_type": "stream",
     "text": [
      "0.6679005695616476\n",
      "1434305552.0 1434305551.6235247\n",
      "0.6679005697369576 0\n"
     ]
    }
   ],
   "source": [
    "data = S1/S3\n",
    "print(data)\n",
    "n_exp = 0\n",
    "while data >= 1 or data < 0.5:\n",
    "    if data >=1:\n",
    "        data /= 2\n",
    "        n_exp += 1\n",
    "    else:\n",
    "        data *= 2\n",
    "        n_exp -= 1\n",
    "m_zero_res = np.round(data*2**31)\n",
    "print(m_zero_res, data*2**31)\n",
    "m_zero_res = m_zero_res/2**31*2**n_exp\n",
    "print(m_zero_res, n_exp)"
   ]
  },
  {
   "cell_type": "code",
   "execution_count": 171,
   "metadata": {},
   "outputs": [
    {
     "name": "stdout",
     "output_type": "stream",
     "text": [
      "1.013889356121017\n",
      "1088655407.0 1\n",
      "1.0138893565163016\n"
     ]
    }
   ],
   "source": [
    "data = S2/S1\n",
    "print(data)\n",
    "n_exp = 0\n",
    "while data >= 1 or data < 0.5:\n",
    "    if data >=1:\n",
    "        data /= 2\n",
    "        n_exp += 1\n",
    "    else:\n",
    "        data *= 2\n",
    "        n_exp -= 1\n",
    "n_res = n_exp\n",
    "res_factor = np.round(data*2**31)\n",
    "print(res_factor, n_res)\n",
    "res_factor = res_factor/2**31*2**n_res\n",
    "print(res_factor)"
   ]
  },
  {
   "cell_type": "code",
   "execution_count": 172,
   "metadata": {},
   "outputs": [
    {
     "name": "stdout",
     "output_type": "stream",
     "text": [
      "[-30.4166807  -15.20834035  20.27778713  20.27778713  45.62502104\n",
      " -25.34723391  -3.04166807  29.40279134 -27.37501263  55.76391461]\n"
     ]
    }
   ],
   "source": [
    "res_factor_32 = 1088655407\n",
    "print(res_factor_32* input_2_q[:10]/2**31*2**n_res)"
   ]
  },
  {
   "cell_type": "code",
   "execution_count": 140,
   "metadata": {},
   "outputs": [
    {
     "name": "stdout",
     "output_type": "stream",
     "text": [
      "[-30.4166807  -15.20834035  20.27778713  20.27778713  45.62502104\n",
      " -25.34723391  -3.04166807  29.40279134 -27.37501263  55.76391461] [-30.4166807  -15.20834035  20.27778713  20.27778713  45.62502104\n",
      " -25.34723391  -3.04166807  29.40279134 -27.37501263  55.76391461]\n"
     ]
    }
   ],
   "source": [
    "scaled_in2 = np.rint(res_factor*input_2_q*2**31)\n",
    "scaled_in2 /= 2**31\n",
    "print(scaled_in2[:10], res_factor*input_2_q[:10])"
   ]
  },
  {
   "cell_type": "code",
   "execution_count": 177,
   "metadata": {},
   "outputs": [],
   "source": [
    "output_quant = m_zero_res * (input_1_q + scaled_in2)\n",
    "output_quant = (np.rint(output_quant))"
   ]
  },
  {
   "cell_type": "code",
   "execution_count": 155,
   "metadata": {},
   "outputs": [
    {
     "data": {
      "text/plain": [
       "[]"
      ]
     },
     "execution_count": 155,
     "metadata": {},
     "output_type": "execute_result"
    },
    {
     "data": {
      "image/png": "[encoded data removed]",
      "text/plain": [
       "<Figure size 432x288 with 1 Axes>"
      ]
     },
     "metadata": {
      "needs_background": "light"
     },
     "output_type": "display_data"
    }
   ],
   "source": [
    "import matplotlib\n",
    "import numpy as np\n",
    "import matplotlib.pyplot as plt\n",
    "\n",
    "fig, ax = plt.subplots()\n",
    "\n",
    "# the histogram of the data\n",
    "n, bins, patches = ax.hist(output_r, bins=10000)\n",
    "\n",
    "ax.plot()"
   ]
  },
  {
   "cell_type": "code",
   "execution_count": 156,
   "metadata": {},
   "outputs": [
    {
     "data": {
      "text/plain": [
       "[]"
      ]
     },
     "execution_count": 156,
     "metadata": {},
     "output_type": "execute_result"
    },
    {
     "data": {
      "image/png": "[encoded data removed]",
      "text/plain": [
       "<Figure size 432x288 with 1 Axes>"
      ]
     },
     "metadata": {
      "needs_background": "light"
     },
     "output_type": "display_data"
    }
   ],
   "source": [
    "fig, ax = plt.subplots()\n",
    "\n",
    "# the histogram of the data\n",
    "n, bins, patches = ax.hist(output_quant*S3, bins=255)\n",
    "\n",
    "ax.plot()"
   ]
  },
  {
   "cell_type": "code",
   "execution_count": 134,
   "metadata": {},
   "outputs": [],
   "source": [
    "output_fq2 = np.rint(output_fq1/S3) * S3"
   ]
  },
  {
   "cell_type": "code",
   "execution_count": 178,
   "metadata": {},
   "outputs": [
    {
     "name": "stdout",
     "output_type": "stream",
     "text": [
      "[-2.29716013  0.61822773 -0.25719122  1.13757829  1.01372122 -0.19189394\n",
      " -0.13694467  1.77909589 -1.06899343 -0.91391769]\n",
      "[-2.25099059  0.63614951 -0.24467289  1.12549529  1.02762614 -0.19573831\n",
      " -0.14680373  1.76164481 -1.07656072 -0.92975698]\n"
     ]
    }
   ],
   "source": [
    "print(output_r[:10])\n",
    "print(S3*output_quant[:10])"
   ]
  },
  {
   "cell_type": "code",
   "execution_count": 179,
   "metadata": {},
   "outputs": [
    {
     "name": "stdout",
     "output_type": "stream",
     "text": [
      "-118.0 246.0\n"
     ]
    }
   ],
   "source": [
    "z_out = min(output_quant)\n",
    "output_q2 = output_quant - z_out\n",
    "print(z_out, max(np.rint(output_q2)))"
   ]
  },
  {
   "cell_type": "code",
   "execution_count": 180,
   "metadata": {},
   "outputs": [
    {
     "name": "stdout",
     "output_type": "stream",
     "text": [
      "[ 72. 131. 113. 141. 139. 114. 115. 154.  96.  99.]\n"
     ]
    }
   ],
   "source": [
    "print((np.rint(output_q2[:10])))"
   ]
  },
  {
   "cell_type": "code",
   "execution_count": 183,
   "metadata": {},
   "outputs": [],
   "source": [
    "input_1 = []\n",
    "input_2 = []\n",
    "str_in1 = '#define INPUT11 { \\\\\\n'\n",
    "str_in2 = '#define INPUT12 { \\\\\\n'\n",
    "for i in range(input_dim*input_dim*input_ch):\n",
    "    temp1 = int(random.gauss(127,30))\n",
    "    input_1.append(temp1)\n",
    "    temp2 = int(random.gauss(127,30))\n",
    "    input_2.append(temp2)\n",
    "    \n",
    "    str_in1 += str(input_1[i]) + ', '\n",
    "    str_in2 += str(input_2[i]) + ', '\n",
    "    \n",
    "    if (i % input_dim*input_ch) == 0 and i!=0:\n",
    "        str_in1 += '\\\\\\n'\n",
    "        str_in2 += '\\\\\\n'\n",
    "    \n",
    "str_in1 = str_in1[:-2] + '}  \\n \\n'\n",
    "str_in2 = str_in2[:-2] + '}  \\n \\n'"
   ]
  },
  {
   "cell_type": "code",
   "execution_count": 184,
   "metadata": {},
   "outputs": [],
   "source": [
    "f = open(\"res_test.h\", \"w\") \n",
    "f.write(str_in1 + str_in2) \n",
    "f.close()"
   ]
  },
  {
   "cell_type": "code",
   "execution_count": null,
   "metadata": {},
   "outputs": [],
   "source": []
  }
 ],
 "metadata": {
  "kernelspec": {
   "display_name": "Python 3",
   "language": "python",
   "name": "python3"
  },
  "language_info": {
   "codemirror_mode": {
    "name": "ipython",
    "version": 3
   },
   "file_extension": ".py",
   "mimetype": "text/x-python",
   "name": "python",
   "nbconvert_exporter": "python",
   "pygments_lexer": "ipython3",
   "version": "3.5.2"
  }
 },
 "nbformat": 4,
 "nbformat_minor": 4
}
